{
  "nbformat": 4,
  "nbformat_minor": 0,
  "metadata": {
    "colab": {
      "name": "Section A: Fundamentals of Python.ipynb",
      "provenance": [],
      "collapsed_sections": []
    },
    "kernelspec": {
      "name": "python3",
      "display_name": "Python 3"
    },
    "language_info": {
      "name": "python"
    }
  },
  "cells": [
    {
      "cell_type": "code",
      "execution_count": null,
      "metadata": {
        "colab": {
          "base_uri": "https://localhost:8080/"
        },
        "id": "ZN4feezQsgAL",
        "outputId": "328c93b0-9e48-4376-cbcd-ed55e52cfc5b"
      },
      "outputs": [
        {
          "output_type": "stream",
          "name": "stdout",
          "text": [
            "Hello Python\n"
          ]
        }
      ],
      "source": [
        "print('Hello Python')"
      ]
    },
    {
      "cell_type": "code",
      "source": [
        "num1=10\n",
        "num2=5\n",
        "add=num1+num2\n",
        "div=num1/num2\n",
        "print('Addition=',add)\n",
        "print('Division=',div)"
      ],
      "metadata": {
        "colab": {
          "base_uri": "https://localhost:8080/"
        },
        "id": "KOZVd4tGtIbb",
        "outputId": "b5030a57-3edc-4beb-a12c-b1adcf11f5b2"
      },
      "execution_count": null,
      "outputs": [
        {
          "output_type": "stream",
          "name": "stdout",
          "text": [
            "Addition= 15\n",
            "Division= 2.0\n"
          ]
        }
      ]
    },
    {
      "cell_type": "code",
      "source": [
        "bdt=int(input(\"breadth of Triangle=\"))\n",
        "height=int(input(\"Height of Triangle=\"))\n",
        "Area=0.5*bdt*height\n",
        "print(\"Area of Triangle\",Area)"
      ],
      "metadata": {
        "colab": {
          "base_uri": "https://localhost:8080/"
        },
        "id": "cRNKy37fuO9d",
        "outputId": "ce1861ff-e6d8-49e3-f600-e9e42b4e6a51"
      },
      "execution_count": null,
      "outputs": [
        {
          "output_type": "stream",
          "name": "stdout",
          "text": [
            "breadth of Triangle=10\n",
            "Height of Triangle=12\n",
            "Area of Triangle 60.0\n"
          ]
        }
      ]
    },
    {
      "cell_type": "code",
      "source": [
        "a=10\n",
        "b=8\n",
        "a,b=b,a\n",
        "print(\"Value of a=\",a)\n",
        "print(\"value of b=\",b)"
      ],
      "metadata": {
        "colab": {
          "base_uri": "https://localhost:8080/"
        },
        "id": "NKhmTG0Twa1p",
        "outputId": "b1e59d4c-7051-4c3c-ef12-b92fb8831192"
      },
      "execution_count": null,
      "outputs": [
        {
          "output_type": "stream",
          "name": "stdout",
          "text": [
            "Value of a= 8\n",
            "value of b= 10\n"
          ]
        }
      ]
    },
    {
      "cell_type": "code",
      "source": [
        "import random\n",
        "n=random.random()\n",
        "print(\"Number=\",n)"
      ],
      "metadata": {
        "colab": {
          "base_uri": "https://localhost:8080/"
        },
        "id": "f__JmykBx5PY",
        "outputId": "71e806c5-3b1b-49f3-fbcf-fb0fdd5bccb6"
      },
      "execution_count": null,
      "outputs": [
        {
          "output_type": "stream",
          "name": "stdout",
          "text": [
            "Number= 0.2585269621363807\n"
          ]
        }
      ]
    },
    {
      "cell_type": "code",
      "source": [
        ""
      ],
      "metadata": {
        "id": "zCpA3o1oyc_z"
      },
      "execution_count": null,
      "outputs": []
    }
  ]
}