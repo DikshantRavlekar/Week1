{
  "nbformat": 4,
  "nbformat_minor": 0,
  "metadata": {
    "colab": {
      "name": "Section F.ipynb",
      "provenance": [],
      "collapsed_sections": []
    },
    "kernelspec": {
      "name": "python3",
      "display_name": "Python 3"
    },
    "language_info": {
      "name": "python"
    }
  },
  "cells": [
    {
      "cell_type": "code",
      "execution_count": 2,
      "metadata": {
        "colab": {
          "base_uri": "https://localhost:8080/"
        },
        "id": "nK00K0xEzI8J",
        "outputId": "63169dd6-389d-4ad4-e937-f43da04b4f12"
      },
      "outputs": [
        {
          "output_type": "stream",
          "name": "stdout",
          "text": [
            "74\n"
          ]
        }
      ],
      "source": [
        "num=[11,5,17,18,23]\n",
        "print(sum(num))\n"
      ]
    },
    {
      "cell_type": "code",
      "source": [
        "def mul_list(list) :\n",
        "    product = 1\n",
        "    for i in list:\n",
        "         product = product * i\n",
        "    return product\n",
        "list1 = [11, 12, 4, 3]\n",
        "print(mul_list(list1))"
      ],
      "metadata": {
        "colab": {
          "base_uri": "https://localhost:8080/"
        },
        "id": "O4GDFNH205z6",
        "outputId": "ced2d2a9-170a-4c93-8b65-bbfec94a6264"
      },
      "execution_count": 6,
      "outputs": [
        {
          "output_type": "stream",
          "name": "stdout",
          "text": [
            "1584\n"
          ]
        }
      ]
    },
    {
      "cell_type": "code",
      "source": [
        "num=[11,5,17,18,232,2,4]\n",
        "print(min(num))"
      ],
      "metadata": {
        "colab": {
          "base_uri": "https://localhost:8080/"
        },
        "id": "_F8LeA8D2por",
        "outputId": "75a67dc7-461b-4d08-f668-6351d1e39a05"
      },
      "execution_count": 7,
      "outputs": [
        {
          "output_type": "stream",
          "name": "stdout",
          "text": [
            "2\n"
          ]
        }
      ]
    },
    {
      "cell_type": "code",
      "source": [
        "num=[11,5,17,18,232,2,4]\n",
        "print(max(num))"
      ],
      "metadata": {
        "colab": {
          "base_uri": "https://localhost:8080/"
        },
        "id": "1FrhgBM43Aa2",
        "outputId": "0b960d45-de64-477c-eb73-a50ef0271d8e"
      },
      "execution_count": 8,
      "outputs": [
        {
          "output_type": "stream",
          "name": "stdout",
          "text": [
            "232\n"
          ]
        }
      ]
    },
    {
      "cell_type": "code",
      "source": [
        "list1 = [10,20,20,4,45,45,45,99,99]\n",
        "list2 = list(set(list1))\n",
        "list2.sort()\n",
        "print(\"Second largest element is:\", list2[-2])\n"
      ],
      "metadata": {
        "colab": {
          "base_uri": "https://localhost:8080/"
        },
        "id": "-sWkJr_h3D-6",
        "outputId": "6721f3e6-fbc3-49dd-d73c-7425994d800f"
      },
      "execution_count": 11,
      "outputs": [
        {
          "output_type": "stream",
          "name": "stdout",
          "text": [
            "Second largest element is: 45\n"
          ]
        }
      ]
    },
    {
      "cell_type": "code",
      "source": [
        "num=[1000,298,3579,100,200,-45,900]\n",
        "n=4 \n",
        "num.sort()\n",
        "print(num[-n:])"
      ],
      "metadata": {
        "colab": {
          "base_uri": "https://localhost:8080/"
        },
        "id": "21JxTEsX4vi7",
        "outputId": "2fa323e2-a059-4320-bb49-38619702e574"
      },
      "execution_count": 10,
      "outputs": [
        {
          "output_type": "stream",
          "name": "stdout",
          "text": [
            "[298, 900, 1000, 3579]\n"
          ]
        }
      ]
    },
    {
      "cell_type": "code",
      "source": [
        "list1=[11,5,17,18,232,2,4]\n",
        "for num in list1:\n",
        "    if num % 2==0:\n",
        "        print(num, end=\" \")"
      ],
      "metadata": {
        "colab": {
          "base_uri": "https://localhost:8080/"
        },
        "id": "XkwidRUL4_MV",
        "outputId": "de3b477d-dd4d-4e6c-ed29-326605b8f502"
      },
      "execution_count": 12,
      "outputs": [
        {
          "output_type": "stream",
          "name": "stdout",
          "text": [
            "18 232 2 4 "
          ]
        }
      ]
    },
    {
      "cell_type": "code",
      "source": [
        "list1=[11,5,17,18,232,2,4]\n",
        "for num in list1:\n",
        "    if num % 2 != 0:\n",
        "       print(num, end = \" \")"
      ],
      "metadata": {
        "colab": {
          "base_uri": "https://localhost:8080/"
        },
        "id": "sTwqJUlF5Vy-",
        "outputId": "c8a5bfc2-e672-4a9a-cf6c-9bfd3fe59536"
      },
      "execution_count": 13,
      "outputs": [
        {
          "output_type": "stream",
          "name": "stdout",
          "text": [
            "11 5 17 "
          ]
        }
      ]
    },
    {
      "cell_type": "code",
      "source": [
        "test_list = [5, 6, [], 3, [], [], 9]\n",
        "res = list(filter(None, test_list))\n",
        "print(str(res))\n"
      ],
      "metadata": {
        "colab": {
          "base_uri": "https://localhost:8080/"
        },
        "id": "rI_0VQUL5gTd",
        "outputId": "d77952e8-7945-40da-96de-88f6249eeeb5"
      },
      "execution_count": 14,
      "outputs": [
        {
          "output_type": "stream",
          "name": "stdout",
          "text": [
            "[5, 6, 3, 9]\n"
          ]
        }
      ]
    },
    {
      "cell_type": "code",
      "source": [
        "def Cloning(li1):\n",
        "    li_copy = li1[:]\n",
        "    return li_copy\n",
        "lisa=[4,8,2,10,15,18]\n",
        "lisb=Cloning(lisa)\n",
        "print(\"Original List:\",lisa)\n",
        "print(\"After Cloning:\",lisb)"
      ],
      "metadata": {
        "colab": {
          "base_uri": "https://localhost:8080/"
        },
        "id": "RzGTI9bl6Iaw",
        "outputId": "8bec7fea-cf05-4a06-e21e-a36e1033755e"
      },
      "execution_count": 15,
      "outputs": [
        {
          "output_type": "stream",
          "name": "stdout",
          "text": [
            "Original List: [4, 8, 2, 10, 15, 18]\n",
            "After Cloning: [4, 8, 2, 10, 15, 18]\n"
          ]
        }
      ]
    },
    {
      "cell_type": "code",
      "source": [
        "num=[11,5,17,18,232,2,4]\n",
        "print(num.count(5))"
      ],
      "metadata": {
        "colab": {
          "base_uri": "https://localhost:8080/"
        },
        "id": "ASpjOpRv7eeb",
        "outputId": "e0666445-bf27-42cc-b94c-ca9f76182625"
      },
      "execution_count": 17,
      "outputs": [
        {
          "output_type": "stream",
          "name": "stdout",
          "text": [
            "1\n"
          ]
        }
      ]
    }
  ]
}