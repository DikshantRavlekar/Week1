{
  "nbformat": 4,
  "nbformat_minor": 0,
  "metadata": {
    "colab": {
      "name": "Section B:.ipynb",
      "provenance": []
    },
    "kernelspec": {
      "name": "python3",
      "display_name": "Python 3"
    },
    "language_info": {
      "name": "python"
    }
  },
  "cells": [
    {
      "cell_type": "code",
      "execution_count": 3,
      "metadata": {
        "colab": {
          "base_uri": "https://localhost:8080/"
        },
        "id": "glYHEjQ41mJy",
        "outputId": "c686729b-b56d-4338-fc03-83f83b9898a1"
      },
      "outputs": [
        {
          "output_type": "stream",
          "name": "stdout",
          "text": [
            "Enter the value in kilometers=2\n",
            "miles= 1.242742\n"
          ]
        }
      ],
      "source": [
        "km=int(input(\"Enter the value in kilometers=\"))\n",
        "miles=km*0.621371\n",
        "print(\"miles=\",miles)"
      ]
    },
    {
      "cell_type": "code",
      "source": [
        "Celsius=int(input(\"Enter the value in Celsius=\"))\n",
        "Fahrenheit=(Celsius * 9/5) + 32\n",
        "print(\"Fahrenheit=\",Fahrenheit)"
      ],
      "metadata": {
        "colab": {
          "base_uri": "https://localhost:8080/"
        },
        "id": "5CJxXtS14Z3b",
        "outputId": "33e4fbf3-b47e-4d75-c323-6bd2be7148b6"
      },
      "execution_count": 2,
      "outputs": [
        {
          "output_type": "stream",
          "name": "stdout",
          "text": [
            "Enter the value in Celsius=5\n",
            "Fahrenheit= 41.0\n"
          ]
        }
      ]
    },
    {
      "cell_type": "code",
      "source": [
        "import calendar\n",
        "yy=2021\n",
        "mm=8"
      ],
      "metadata": {
        "id": "JTXBbYJQ59xb"
      },
      "execution_count": 12,
      "outputs": []
    },
    {
      "cell_type": "code",
      "source": [
        "a=int(input(\"Enter the value of a=\"))\n",
        "b=int(input(\"Enter the value of b=\"))\n",
        "a,b=b,a\n",
        "print(\"value of a after swaping=\",a)\n",
        "print(\"value of b after swaping=\",b)"
      ],
      "metadata": {
        "colab": {
          "base_uri": "https://localhost:8080/"
        },
        "id": "ZPtcq-jo8QP8",
        "outputId": "f2dff7b4-ace6-44e3-a70a-a5cf138719be"
      },
      "execution_count": 13,
      "outputs": [
        {
          "output_type": "stream",
          "name": "stdout",
          "text": [
            "Enter the value of a=14\n",
            "Enter the value of b=7\n",
            "value of a after swaping= 7\n",
            "value of b after swaping= 14\n"
          ]
        }
      ]
    }
  ]
}